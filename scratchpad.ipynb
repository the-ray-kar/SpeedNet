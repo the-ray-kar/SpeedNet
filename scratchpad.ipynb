{
 "cells": [
  {
   "cell_type": "code",
   "execution_count": 1,
   "metadata": {},
   "outputs": [],
   "source": [
    "import cv2\n",
    "import numpy as np\n",
    "from dataset_maker import datasetmaker,data_browser\n",
    "import torch\n",
    "import torch.nn as nn\n",
    "import torch.optim as optim\n",
    "import torch.nn.functional as F"
   ]
  },
  {
   "cell_type": "markdown",
   "metadata": {},
   "source": [
    "## Fetch the road patch points"
   ]
  },
  {
   "cell_type": "code",
   "execution_count": 2,
   "metadata": {},
   "outputs": [
    {
     "name": "stdout",
     "output_type": "stream",
     "text": [
      "Point 1 selected: (93, 314)\n",
      "Point 2 selected: (467, 320)\n",
      "Point 3 selected: (391, 275)\n",
      "Point 4 selected: (189, 262)\n"
     ]
    }
   ],
   "source": [
    "datamaker  = datasetmaker(\"../sp_data/train.mp4\",\"../sp_data/train.txt\")\n",
    "points = datamaker.get_points_video()\n",
    "cv2.destroyAllWindows()"
   ]
  },
  {
   "cell_type": "code",
   "execution_count": 3,
   "metadata": {},
   "outputs": [
    {
     "data": {
      "text/plain": [
       "(1, 3, 204, 626)"
      ]
     },
     "execution_count": 3,
     "metadata": {},
     "output_type": "execute_result"
    }
   ],
   "source": [
    "#these would be final as whole model depends upon it. As width and height calculated depends on these points\n",
    "points\n",
    "width =  int(np.sum(np.sqrt( (points[0]-points[1]) **2) )) \n",
    "height = int(np.sum(np.sqrt( (points[2]-points[1]) **2) ))\n",
    "tensor_shape = 1,3,height,width\n",
    "tensor_shape"
   ]
  },
  {
   "cell_type": "markdown",
   "metadata": {},
   "source": [
    "## Model training"
   ]
  },
  {
   "cell_type": "code",
   "execution_count": 4,
   "metadata": {},
   "outputs": [],
   "source": [
    "class SpeedNet(nn.Module):\n",
    "    def __init__(self, input_shape):\n",
    "        super(SpeedNet, self).__init__()\n",
    "        self.conv1 = nn.Conv2d(in_channels=input_shape[1], out_channels=30, kernel_size=3)\n",
    "        self.conv2 = nn.Conv2d(in_channels=30,             out_channels=5, kernel_size=5,stride=1)\n",
    "        self.conv3 = nn.Conv2d(in_channels=5,              out_channels=1, kernel_size=3,stride=1)\n",
    "        self.pool = nn.MaxPool2d(kernel_size=3, stride=3)\n",
    "        self.flatten = nn.Flatten() \n",
    "        \n",
    "        # Calculate the size of the flattened features after the convolution and pooling layers\n",
    "        # This depends on the input image size and the layers' configurations\n",
    "        conv_output_size = self._get_conv_output(input_shape)\n",
    "        \n",
    "        self.fc1 = nn.Linear(conv_output_size, 32)\n",
    "        self.fc2 = nn.Linear(32, 1)\n",
    "\n",
    "    def conv_forward(self,x):\n",
    "        x = self.conv1(x)\n",
    "        x = F.relu(x)\n",
    "        x = self.pool(x)\n",
    "        print(\"after pool1\",x.shape,torch.sum(x))\n",
    "        x = self.conv2(x)\n",
    "        x = F.relu(x)\n",
    "        x = self.pool(x)\n",
    "        print(\"after pool2\",x.shape,torch.sum(x))\n",
    "        x = self.conv3(x)\n",
    "        x = F.relu(x)\n",
    "        x = self.pool(x)\n",
    "        print(\"after pool3\",x.shape,torch.sum(x))\n",
    "        return x\n",
    "    \n",
    "    def _get_conv_output(self, shapes):\n",
    "        x = torch.rand(shapes[1:],dtype=torch.float32)\n",
    "        print(x.shape)\n",
    "        x = self.conv_forward(x)\n",
    "        print(x.shape)\n",
    "        sizee = int(torch.prod(torch.tensor(x.size())))\n",
    "        print(sizee)\n",
    "        return sizee\n",
    "\n",
    "    def forward(self, x):\n",
    "\n",
    "        y = self.conv_forward(x)\n",
    "        #print('after ',torch.sum(y))\n",
    "        z = self.flatten(y)\n",
    "        d = F.relu(self.fc1(z))\n",
    "        r = self.fc2(d)\n",
    "        print('final out',r)\n",
    "        return r"
   ]
  },
  {
   "cell_type": "code",
   "execution_count": 3,
   "metadata": {},
   "outputs": [],
   "source": [
    "class Mini_SpeedNet(nn.Module):\n",
    "    def __init__(self, input_shape):\n",
    "        super(Mini_SpeedNet, self).__init__()\n",
    "        self.conv1 = nn.Conv2d(in_channels=input_shape[1], out_channels=1, kernel_size=3)\n",
    "        self.pool = nn.MaxPool2d(kernel_size=20, stride=10)\n",
    "        self.flatten = nn.Flatten() \n",
    "        \n",
    "        # Calculate the size of the flattened features after the convolution and pooling layers\n",
    "        # This depends on the input image size and the layers' configurations\n",
    "        conv_output_size = self._get_conv_output(input_shape)\n",
    "        \n",
    "        self.fc1 = nn.Linear(conv_output_size, 32)\n",
    "        self.fc2 = nn.Linear(32, 1)\n",
    "\n",
    "    def conv_forward(self,x):\n",
    "        x = self.conv1(x)\n",
    "        x = F.relu(x)\n",
    "        x = self.pool(x)\n",
    "        #print(\"after pool1\",x.shape,torch.sum(x))\n",
    "        return x\n",
    "    \n",
    "    def _get_conv_output(self, shapes):\n",
    "        x = torch.rand(shapes[1:],dtype=torch.float32)\n",
    "        print(x.shape)\n",
    "        x = self.conv_forward(x)\n",
    "        print(x.shape)\n",
    "        sizee = int(torch.prod(torch.tensor(x.size())))\n",
    "        print(sizee)\n",
    "        return sizee\n",
    "\n",
    "    def forward(self, x):\n",
    "\n",
    "        y = self.conv_forward(x)\n",
    "        #print('after ',torch.sum(y))\n",
    "        z = self.flatten(y)\n",
    "        d = F.relu(self.fc1(z))\n",
    "        r = self.fc2(d)\n",
    "        #print('final out',r)\n",
    "        return r"
   ]
  },
  {
   "cell_type": "code",
   "execution_count": 4,
   "metadata": {},
   "outputs": [
    {
     "ename": "NameError",
     "evalue": "name 'tensor_shape' is not defined",
     "output_type": "error",
     "traceback": [
      "\u001b[0;31m---------------------------------------------------------------------------\u001b[0m",
      "\u001b[0;31mNameError\u001b[0m                                 Traceback (most recent call last)",
      "Cell \u001b[0;32mIn[4], line 1\u001b[0m\n\u001b[0;32m----> 1\u001b[0m model \u001b[38;5;241m=\u001b[39m Mini_SpeedNet(\u001b[43mtensor_shape\u001b[49m)\n",
      "\u001b[0;31mNameError\u001b[0m: name 'tensor_shape' is not defined"
     ]
    }
   ],
   "source": [
    "model = Mini_SpeedNet(tensor_shape)"
   ]
  },
  {
   "cell_type": "code",
   "execution_count": 9,
   "metadata": {},
   "outputs": [],
   "source": [
    "criterion = nn.MSELoss()\n",
    "optimizer = optim.Adagrad(model.parameters(),lr = 0.01)"
   ]
  },
  {
   "cell_type": "code",
   "execution_count": 10,
   "metadata": {},
   "outputs": [
    {
     "data": {
      "text/plain": [
       "Mini_SpeedNet(\n",
       "  (conv1): Conv2d(3, 1, kernel_size=(3, 3), stride=(1, 1))\n",
       "  (pool): MaxPool2d(kernel_size=20, stride=10, padding=0, dilation=1, ceil_mode=False)\n",
       "  (flatten): Flatten(start_dim=1, end_dim=-1)\n",
       "  (fc1): Linear(in_features=1426, out_features=32, bias=True)\n",
       "  (fc2): Linear(in_features=32, out_features=1, bias=True)\n",
       ")"
      ]
     },
     "execution_count": 10,
     "metadata": {},
     "output_type": "execute_result"
    }
   ],
   "source": [
    "model.train()"
   ]
  },
  {
   "cell_type": "code",
   "execution_count": 11,
   "metadata": {},
   "outputs": [
    {
     "name": "stdout",
     "output_type": "stream",
     "text": [
      "torch.Size([10, 3, 204, 626])\n",
      "torch.Size([10, 3, 204, 626])\n",
      "torch.Size([10, 3, 204, 626])\n",
      "torch.Size([10, 3, 204, 626])\n",
      "torch.Size([10, 3, 204, 626])\n",
      "torch.Size([10, 3, 204, 626])\n",
      "torch.Size([10, 3, 204, 626])\n",
      "torch.Size([10, 3, 204, 626])\n",
      "torch.Size([10, 3, 204, 626])\n",
      "torch.Size([10, 3, 204, 626])\n"
     ]
    }
   ],
   "source": [
    "for input, label in datamaker.generate_tensor_data(points):\n",
    "    print(input.shape)"
   ]
  },
  {
   "cell_type": "code",
   "execution_count": 11,
   "metadata": {},
   "outputs": [
    {
     "name": "stdout",
     "output_type": "stream",
     "text": [
      "Epoch 1, Loss: 0.4121588170528412\n",
      "Epoch 2, Loss: 84.98666381835938\n",
      "Epoch 3, Loss: 56.225887298583984\n",
      "Epoch 4, Loss: 10.756926536560059\n",
      "Epoch 5, Loss: 0.5482043623924255\n",
      "Epoch 6, Loss: 0.23544292151927948\n",
      "Epoch 7, Loss: 0.21949508786201477\n",
      "Epoch 8, Loss: 0.2415843904018402\n",
      "Epoch 9, Loss: 0.2261088490486145\n",
      "Epoch 10, Loss: 0.21405644714832306\n",
      "Epoch 11, Loss: 0.2756398916244507\n",
      "Epoch 12, Loss: 0.2807267904281616\n",
      "Epoch 13, Loss: 0.23070015013217926\n",
      "Epoch 14, Loss: 0.2762466073036194\n",
      "Epoch 15, Loss: 0.17563103139400482\n"
     ]
    },
    {
     "ename": "KeyboardInterrupt",
     "evalue": "",
     "output_type": "error",
     "traceback": [
      "\u001b[0;31m---------------------------------------------------------------------------\u001b[0m",
      "\u001b[0;31mKeyboardInterrupt\u001b[0m                         Traceback (most recent call last)",
      "Cell \u001b[0;32mIn[11], line 2\u001b[0m\n\u001b[1;32m      1\u001b[0m epoch \u001b[38;5;241m=\u001b[39m \u001b[38;5;241m0\u001b[39m\n\u001b[0;32m----> 2\u001b[0m \u001b[38;5;28;01mfor\u001b[39;00m \u001b[38;5;28minput\u001b[39m, label \u001b[38;5;129;01min\u001b[39;00m datamaker\u001b[38;5;241m.\u001b[39mgenerate_tensor_data(points,batchsize\u001b[38;5;241m=\u001b[39m\u001b[38;5;241m100\u001b[39m,epochs\u001b[38;5;241m=\u001b[39m\u001b[38;5;241m100\u001b[39m):\n\u001b[1;32m      3\u001b[0m     \u001b[38;5;66;03m# Zero the parameter gradients\u001b[39;00m\n\u001b[1;32m      4\u001b[0m     optimizer\u001b[38;5;241m.\u001b[39mzero_grad()\n\u001b[1;32m      6\u001b[0m     \u001b[38;5;66;03m# Forward pass\u001b[39;00m\n",
      "File \u001b[0;32m~/Projects/SpeedNet/dataset_maker.py:83\u001b[0m, in \u001b[0;36mdatasetmaker.generate_tensor_data\u001b[0;34m(self, points, batchsize, epochs, start_frame, end_frame)\u001b[0m\n\u001b[1;32m     81\u001b[0m label_batch \u001b[38;5;241m=\u001b[39m []\n\u001b[1;32m     82\u001b[0m \u001b[38;5;28;01mfor\u001b[39;00m i \u001b[38;5;129;01min\u001b[39;00m random_selections:\n\u001b[0;32m---> 83\u001b[0m     old_frame \u001b[38;5;241m=\u001b[39m \u001b[38;5;28;43mself\u001b[39;49m\u001b[38;5;241;43m.\u001b[39;49m\u001b[43mget_frame\u001b[49m\u001b[43m(\u001b[49m\u001b[43mi\u001b[49m\u001b[38;5;241;43m-\u001b[39;49m\u001b[38;5;241;43m1\u001b[39;49m\u001b[43m)\u001b[49m\n\u001b[1;32m     84\u001b[0m     old_pers \u001b[38;5;241m=\u001b[39m \u001b[38;5;28mself\u001b[39m\u001b[38;5;241m.\u001b[39mapply_perspective_transform(old_frame,points,width,height)\n\u001b[1;32m     85\u001b[0m     mid_frame \u001b[38;5;241m=\u001b[39m \u001b[38;5;28mself\u001b[39m\u001b[38;5;241m.\u001b[39mget_frame(i)\n",
      "File \u001b[0;32m~/Projects/SpeedNet/video_utils.py:92\u001b[0m, in \u001b[0;36mvideo_browser.get_frame\u001b[0;34m(self, position, is_gray_scale)\u001b[0m\n\u001b[1;32m     90\u001b[0m \u001b[38;5;28;01mdef\u001b[39;00m \u001b[38;5;21mget_frame\u001b[39m(\u001b[38;5;28mself\u001b[39m,position,is_gray_scale\u001b[38;5;241m=\u001b[39m\u001b[38;5;28;01mTrue\u001b[39;00m):\n\u001b[1;32m     91\u001b[0m     \u001b[38;5;28;01massert\u001b[39;00m position\u001b[38;5;241m>\u001b[39m\u001b[38;5;241m=\u001b[39m\u001b[38;5;241m0\u001b[39m \u001b[38;5;129;01mand\u001b[39;00m position\u001b[38;5;241m<\u001b[39m\u001b[38;5;28mself\u001b[39m\u001b[38;5;241m.\u001b[39mframe_count,\u001b[38;5;124m\"\u001b[39m\u001b[38;5;124mPosition not in frame range\u001b[39m\u001b[38;5;124m\"\u001b[39m\n\u001b[0;32m---> 92\u001b[0m     \u001b[38;5;28;43mself\u001b[39;49m\u001b[38;5;241;43m.\u001b[39;49m\u001b[43mcap\u001b[49m\u001b[38;5;241;43m.\u001b[39;49m\u001b[43mset\u001b[49m\u001b[43m(\u001b[49m\u001b[43mcv2\u001b[49m\u001b[38;5;241;43m.\u001b[39;49m\u001b[43mCAP_PROP_POS_FRAMES\u001b[49m\u001b[43m,\u001b[49m\u001b[43m \u001b[49m\u001b[43mposition\u001b[49m\u001b[43m)\u001b[49m\n\u001b[1;32m     93\u001b[0m     ret, frame \u001b[38;5;241m=\u001b[39m \u001b[38;5;28mself\u001b[39m\u001b[38;5;241m.\u001b[39mcap\u001b[38;5;241m.\u001b[39mread()\n\u001b[1;32m     95\u001b[0m     \u001b[38;5;28;01mif\u001b[39;00m ret \u001b[38;5;129;01mand\u001b[39;00m is_gray_scale:\n",
      "\u001b[0;31mKeyboardInterrupt\u001b[0m: "
     ]
    }
   ],
   "source": [
    "epoch = 0\n",
    "for input, label in datamaker.generate_tensor_data(points,batchsize=100,epochs=100):\n",
    "    # Zero the parameter gradients\n",
    "    optimizer.zero_grad()\n",
    "    \n",
    "    # Forward pass\n",
    "    outputs = model(input)\n",
    "    loss = criterion(outputs.squeeze(), label)\n",
    "    \n",
    "    # Backward pass and optimize\n",
    "    loss.backward()\n",
    "    optimizer.step()\n",
    "    \n",
    "\n",
    "    print(f'Epoch {epoch+1}, Loss: {loss.item()}')\n",
    "    epoch+=1\n",
    "\n",
    "print('Finished Training')"
   ]
  },
  {
   "cell_type": "code",
   "execution_count": 127,
   "metadata": {},
   "outputs": [],
   "source": [
    "torch.save({\n",
    "    'model_state_dict': model.state_dict(),\n",
    "    'optimizer_state_dict': optimizer.state_dict()\n",
    "}, 'model.pth')"
   ]
  },
  {
   "cell_type": "code",
   "execution_count": 128,
   "metadata": {},
   "outputs": [],
   "source": [
    "np.save(\"road_patch.npy\",points)"
   ]
  },
  {
   "cell_type": "markdown",
   "metadata": {},
   "source": [
    "## Reload the Model"
   ]
  },
  {
   "cell_type": "code",
   "execution_count": 8,
   "metadata": {},
   "outputs": [
    {
     "name": "stdout",
     "output_type": "stream",
     "text": [
      "torch.Size([3, 249, 638])\n",
      "torch.Size([1, 23, 62])\n",
      "1426\n"
     ]
    },
    {
     "data": {
      "text/plain": [
       "<All keys matched successfully>"
      ]
     },
     "execution_count": 8,
     "metadata": {},
     "output_type": "execute_result"
    }
   ],
   "source": [
    "#Reload the dataloader,model and road_patch\n",
    "datamaker  = datasetmaker(\"../sp_data/train.mp4\",\"../sp_data/train.txt\")\n",
    "points = np.load(\"road_patch.npy\")\n",
    "width =  int(np.sum(np.sqrt( (points[0]-points[1]) **2) )) \n",
    "height = int(np.sum(np.sqrt( (points[2]-points[1]) **2) ))\n",
    "tensor_shape = 1,3,height,width\n",
    "model = Mini_SpeedNet(tensor_shape)\n",
    "# Load the model and optimizer state_dict\n",
    "checkpoint = torch.load('model.pth')\n",
    "model.load_state_dict(checkpoint['model_state_dict'])\n"
   ]
  },
  {
   "cell_type": "code",
   "execution_count": 130,
   "metadata": {},
   "outputs": [
    {
     "name": "stdout",
     "output_type": "stream",
     "text": [
      "tensor(0.2179, grad_fn=<SqueezeBackward0>) tensor(0.9983) 0.608972430229187\n",
      "tensor(0.2146, grad_fn=<SqueezeBackward0>) tensor(1.) 0.6168603301048279\n",
      "tensor(0.2254, grad_fn=<SqueezeBackward0>) tensor(0.9985) 0.5977466106414795\n",
      "tensor(0.2235, grad_fn=<SqueezeBackward0>) tensor(0.9970) 0.598353385925293\n",
      "tensor(0.2202, grad_fn=<SqueezeBackward0>) tensor(0.9932) 0.5974103212356567\n",
      "tensor(0.2194, grad_fn=<SqueezeBackward0>) tensor(0.9920) 0.5969988703727722\n",
      "tensor(0.2180, grad_fn=<SqueezeBackward0>) tensor(0.9898) 0.5956991314888\n",
      "tensor(0.2167, grad_fn=<SqueezeBackward0>) tensor(0.9919) 0.6008511185646057\n",
      "tensor(0.2166, grad_fn=<SqueezeBackward0>) tensor(0.9894) 0.597251832485199\n",
      "tensor(0.2179, grad_fn=<SqueezeBackward0>) tensor(0.9892) 0.5949372053146362\n"
     ]
    }
   ],
   "source": [
    "frame_count = 0\n",
    "for input, label in datamaker.generate_tensor_data(points):\n",
    "        \n",
    "        # Forward pass\n",
    "        outputs = model(input)\n",
    "        loss = criterion(outputs.squeeze(), label)\n",
    "\n",
    "        frame_count+=1\n",
    "        print(outputs.squeeze(),label,loss.item())\n",
    "        if(frame_count%10==0):\n",
    "            break"
   ]
  },
  {
   "cell_type": "code",
   "execution_count": 119,
   "metadata": {},
   "outputs": [
    {
     "data": {
      "text/plain": [
       "tensor(0.9892)"
      ]
     },
     "execution_count": 119,
     "metadata": {},
     "output_type": "execute_result"
    }
   ],
   "source": [
    "label"
   ]
  },
  {
   "cell_type": "code",
   "execution_count": 131,
   "metadata": {},
   "outputs": [
    {
     "name": "stderr",
     "output_type": "stream",
     "text": [
      "/tmp/ipykernel_14830/3582067096.py:1: DeprecationWarning: This function is deprecated. Please call randint(2, 10 + 1) instead\n",
      "  np.random.random_integers(2,10,size=10)\n"
     ]
    },
    {
     "data": {
      "text/plain": [
       "array([ 7,  4,  5,  5,  2,  2,  8,  4,  9, 10])"
      ]
     },
     "execution_count": 131,
     "metadata": {},
     "output_type": "execute_result"
    }
   ],
   "source": [
    "np.random.random_integers(2,10,size=10)"
   ]
  },
  {
   "cell_type": "code",
   "execution_count": 134,
   "metadata": {},
   "outputs": [],
   "source": [
    "j =np.random.randint(2,10,size=10)"
   ]
  },
  {
   "cell_type": "code",
   "execution_count": 135,
   "metadata": {},
   "outputs": [
    {
     "name": "stdout",
     "output_type": "stream",
     "text": [
      "2\n",
      "2\n",
      "9\n",
      "9\n",
      "2\n",
      "4\n",
      "8\n",
      "3\n",
      "7\n",
      "2\n"
     ]
    }
   ],
   "source": [
    "for i in j:\n",
    "    print(i)"
   ]
  },
  {
   "cell_type": "code",
   "execution_count": null,
   "metadata": {},
   "outputs": [],
   "source": []
  }
 ],
 "metadata": {
  "kernelspec": {
   "display_name": "Python 3",
   "language": "python",
   "name": "python3"
  },
  "language_info": {
   "codemirror_mode": {
    "name": "ipython",
    "version": 3
   },
   "file_extension": ".py",
   "mimetype": "text/x-python",
   "name": "python",
   "nbconvert_exporter": "python",
   "pygments_lexer": "ipython3",
   "version": "3.10.12"
  }
 },
 "nbformat": 4,
 "nbformat_minor": 2
}
