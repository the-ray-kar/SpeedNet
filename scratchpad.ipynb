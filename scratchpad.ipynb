{
 "cells": [
  {
   "cell_type": "code",
   "execution_count": 1,
   "metadata": {},
   "outputs": [],
   "source": [
    "import cv2\n",
    "import numpy as np\n",
    "from dataset_maker import datasetmaker,data_browser\n",
    "import torch\n",
    "import torch.nn as nn\n",
    "import torch.optim as optim\n",
    "import torch.nn.functional as F"
   ]
  },
  {
   "cell_type": "code",
   "execution_count": 2,
   "metadata": {},
   "outputs": [
    {
     "name": "stdout",
     "output_type": "stream",
     "text": [
      "Point 1 selected: (5, 291)\n",
      "Point 2 selected: (619, 296)\n",
      "Point 3 selected: (516, 267)\n",
      "Point 4 selected: (138, 258)\n"
     ]
    }
   ],
   "source": [
    "datamaker  = datasetmaker(\"../sp_data/train.mp4\",\"../sp_data/train.txt\")\n",
    "points = datamaker.get_points_video()\n",
    "cv2.destroyAllWindows()"
   ]
  },
  {
   "cell_type": "code",
   "execution_count": 3,
   "metadata": {},
   "outputs": [
    {
     "data": {
      "text/plain": [
       "(1, 3, 132, 619)"
      ]
     },
     "execution_count": 3,
     "metadata": {},
     "output_type": "execute_result"
    }
   ],
   "source": [
    "#these would be final as whole model depends upon it. As width and height calculated depends on these points\n",
    "points\n",
    "width =  int(np.sum(np.sqrt( (points[0]-points[1]) **2) )) \n",
    "height = int(np.sum(np.sqrt( (points[2]-points[1]) **2) ))\n",
    "tensor_shape = 1,3,height,width\n",
    "tensor_shape"
   ]
  },
  {
   "cell_type": "code",
   "execution_count": 4,
   "metadata": {},
   "outputs": [],
   "source": [
    "class SpeedNet(nn.Module):\n",
    "    def __init__(self, input_shape):\n",
    "        super(SpeedNet, self).__init__()\n",
    "        self.conv1 = nn.Conv2d(in_channels=input_shape[1], out_channels=30, kernel_size=3)\n",
    "        self.conv2 = nn.Conv2d(in_channels=30, out_channels=1, kernel_size=10)\n",
    "        self.pool = nn.MaxPool2d(kernel_size=2, stride=2)\n",
    "        self.flatten = nn.Flatten()\n",
    "        \n",
    "        # Calculate the size of the flattened features after the convolution and pooling layers\n",
    "        # This depends on the input image size and the layers' configurations\n",
    "        conv_output_size = self._get_conv_output(input_shape)\n",
    "        \n",
    "        self.fc1 = nn.Linear(conv_output_size, 128)\n",
    "        self.fc2 = nn.Linear(128, 1)\n",
    "        \n",
    "    def _get_conv_output(self, shapes):\n",
    "        x = torch.rand(shapes[1:],dtype=torch.float32)\n",
    "        print(x.shape)\n",
    "        x = self.pool(self.conv2(self.conv1(x)))\n",
    "        sizee = int(torch.prod(torch.tensor(x.size())))\n",
    "        print(sizee)\n",
    "        return sizee\n",
    "\n",
    "    def forward(self, x):\n",
    "\n",
    "        #print(\"1\",x[0,0,0,0])\n",
    "        x = self.conv1(x)\n",
    "     \n",
    "        x = F.relu(x)\n",
    "        x = self.conv2(x)\n",
    "        #print(\"2\",x[0,0,0,0])\n",
    "        x = F.relu(x)\n",
    "\n",
    "        x = self.pool(x)\n",
    "        #print(\"3\",x[0,0,0,0])\n",
    "        x = self.flatten(x)\n",
    "        #print(x[0,0])\n",
    "        x = F.relu(self.fc1(x))\n",
    "        x = torch.relu(self.fc2(x))\n",
    "        return x"
   ]
  },
  {
   "cell_type": "code",
   "execution_count": 5,
   "metadata": {},
   "outputs": [
    {
     "name": "stdout",
     "output_type": "stream",
     "text": [
      "torch.Size([3, 132, 619])\n",
      "18240\n"
     ]
    }
   ],
   "source": [
    "model = SpeedNet(tensor_shape)"
   ]
  },
  {
   "cell_type": "code",
   "execution_count": 6,
   "metadata": {},
   "outputs": [
    {
     "name": "stderr",
     "output_type": "stream",
     "text": [
      "/home/akshayd/.local/lib/python3.10/site-packages/torch/cuda/__init__.py:619: UserWarning: Can't initialize NVML\n",
      "  warnings.warn(\"Can't initialize NVML\")\n"
     ]
    }
   ],
   "source": [
    "criterion = nn.MSELoss()\n",
    "optimizer = optim.SGD(model.parameters(),lr = 0.01)"
   ]
  },
  {
   "cell_type": "code",
   "execution_count": 7,
   "metadata": {},
   "outputs": [
    {
     "data": {
      "text/plain": [
       "SpeedNet(\n",
       "  (conv1): Conv2d(3, 30, kernel_size=(3, 3), stride=(1, 1))\n",
       "  (conv2): Conv2d(30, 1, kernel_size=(10, 10), stride=(1, 1))\n",
       "  (pool): MaxPool2d(kernel_size=2, stride=2, padding=0, dilation=1, ceil_mode=False)\n",
       "  (flatten): Flatten(start_dim=1, end_dim=-1)\n",
       "  (fc1): Linear(in_features=18240, out_features=128, bias=True)\n",
       "  (fc2): Linear(in_features=128, out_features=1, bias=True)\n",
       ")"
      ]
     },
     "execution_count": 7,
     "metadata": {},
     "output_type": "execute_result"
    }
   ],
   "source": [
    "model.train()"
   ]
  },
  {
   "cell_type": "code",
   "execution_count": 10,
   "metadata": {},
   "outputs": [
    {
     "name": "stdout",
     "output_type": "stream",
     "text": [
      "Epoch 1, Loss: 746.6054650878906\n"
     ]
    },
    {
     "ename": "KeyboardInterrupt",
     "evalue": "",
     "output_type": "error",
     "traceback": [
      "\u001b[0;31m---------------------------------------------------------------------------\u001b[0m",
      "\u001b[0;31mKeyboardInterrupt\u001b[0m                         Traceback (most recent call last)",
      "Cell \u001b[0;32mIn[10], line 4\u001b[0m\n\u001b[1;32m      2\u001b[0m running_loss \u001b[38;5;241m=\u001b[39m \u001b[38;5;241m0.0\u001b[39m\n\u001b[1;32m      3\u001b[0m frame_count \u001b[38;5;241m=\u001b[39m \u001b[38;5;241m0\u001b[39m\n\u001b[0;32m----> 4\u001b[0m \u001b[38;5;28;01mfor\u001b[39;00m \u001b[38;5;28minput\u001b[39m, label \u001b[38;5;129;01min\u001b[39;00m datamaker\u001b[38;5;241m.\u001b[39mgenerate_tensor_data(points):\n\u001b[1;32m      5\u001b[0m     \u001b[38;5;66;03m# Zero the parameter gradients\u001b[39;00m\n\u001b[1;32m      6\u001b[0m     optimizer\u001b[38;5;241m.\u001b[39mzero_grad()\n\u001b[1;32m      8\u001b[0m     \u001b[38;5;66;03m# Forward pass\u001b[39;00m\n",
      "File \u001b[0;32m~/Projects/SpeedNet/dataset_maker.py:77\u001b[0m, in \u001b[0;36mdatasetmaker.generate_tensor_data\u001b[0;34m(self, points)\u001b[0m\n\u001b[1;32m     73\u001b[0m mid_pers \u001b[38;5;241m=\u001b[39m \u001b[38;5;28mself\u001b[39m\u001b[38;5;241m.\u001b[39mapply_perspective_transform(mid_frame,points,width,height)\n\u001b[1;32m     76\u001b[0m \u001b[38;5;28;01mfor\u001b[39;00m i \u001b[38;5;129;01min\u001b[39;00m \u001b[38;5;28mrange\u001b[39m(\u001b[38;5;241m2\u001b[39m,\u001b[38;5;28mself\u001b[39m\u001b[38;5;241m.\u001b[39mframe_count):\n\u001b[0;32m---> 77\u001b[0m     new_frame \u001b[38;5;241m=\u001b[39m \u001b[38;5;28;43mself\u001b[39;49m\u001b[38;5;241;43m.\u001b[39;49m\u001b[43mget_frame\u001b[49m\u001b[43m(\u001b[49m\u001b[43mi\u001b[49m\u001b[43m)\u001b[49m\n\u001b[1;32m     78\u001b[0m     new_pers \u001b[38;5;241m=\u001b[39m \u001b[38;5;28mself\u001b[39m\u001b[38;5;241m.\u001b[39mapply_perspective_transform(new_frame,points,width,height)\n\u001b[1;32m     79\u001b[0m     \u001b[38;5;66;03m#flow = cv.calcOpticalFlowFarneback(prvs, next, None, 0.5, 3, 15, 3, 5, 1.2, 0) #calculate optic flow\u001b[39;00m\n",
      "File \u001b[0;32m~/Projects/SpeedNet/video_utils.py:92\u001b[0m, in \u001b[0;36mvideo_browser.get_frame\u001b[0;34m(self, position, is_gray_scale)\u001b[0m\n\u001b[1;32m     90\u001b[0m \u001b[38;5;28;01mdef\u001b[39;00m \u001b[38;5;21mget_frame\u001b[39m(\u001b[38;5;28mself\u001b[39m,position,is_gray_scale\u001b[38;5;241m=\u001b[39m\u001b[38;5;28;01mTrue\u001b[39;00m):\n\u001b[1;32m     91\u001b[0m     \u001b[38;5;28;01massert\u001b[39;00m position\u001b[38;5;241m>\u001b[39m\u001b[38;5;241m=\u001b[39m\u001b[38;5;241m0\u001b[39m \u001b[38;5;129;01mand\u001b[39;00m position\u001b[38;5;241m<\u001b[39m\u001b[38;5;28mself\u001b[39m\u001b[38;5;241m.\u001b[39mframe_count,\u001b[38;5;124m\"\u001b[39m\u001b[38;5;124mPosition not in frame range\u001b[39m\u001b[38;5;124m\"\u001b[39m\n\u001b[0;32m---> 92\u001b[0m     \u001b[38;5;28;43mself\u001b[39;49m\u001b[38;5;241;43m.\u001b[39;49m\u001b[43mcap\u001b[49m\u001b[38;5;241;43m.\u001b[39;49m\u001b[43mset\u001b[49m\u001b[43m(\u001b[49m\u001b[43mcv2\u001b[49m\u001b[38;5;241;43m.\u001b[39;49m\u001b[43mCAP_PROP_POS_FRAMES\u001b[49m\u001b[43m,\u001b[49m\u001b[43m \u001b[49m\u001b[43mposition\u001b[49m\u001b[43m)\u001b[49m\n\u001b[1;32m     93\u001b[0m     ret, frame \u001b[38;5;241m=\u001b[39m \u001b[38;5;28mself\u001b[39m\u001b[38;5;241m.\u001b[39mcap\u001b[38;5;241m.\u001b[39mread()\n\u001b[1;32m     95\u001b[0m     \u001b[38;5;28;01mif\u001b[39;00m ret \u001b[38;5;129;01mand\u001b[39;00m is_gray_scale:\n",
      "\u001b[0;31mKeyboardInterrupt\u001b[0m: "
     ]
    }
   ],
   "source": [
    "for epoch in range(10):\n",
    "    running_loss = 0.0\n",
    "    frame_count = 0\n",
    "    for input, label in datamaker.generate_tensor_data(points):\n",
    "        # Zero the parameter gradients\n",
    "        optimizer.zero_grad()\n",
    "        \n",
    "        # Forward pass\n",
    "        outputs = model(input)\n",
    "        loss = criterion(outputs.squeeze(), label)\n",
    "        \n",
    "        # Backward pass and optimize\n",
    "        loss.backward()\n",
    "        optimizer.step()\n",
    "        \n",
    "        # Print statistics\n",
    "        running_loss += loss.item()\n",
    "        frame_count+=1\n",
    "        if(frame_count%100==0):\n",
    "            print(f'Epoch {epoch+1}, Loss: {loss.item()/datamaker.frame_count}')\n",
    "    print(f'Epoch {epoch+1}, Loss: {running_loss/datamaker.frame_count}')\n",
    "\n",
    "print('Finished Training')"
   ]
  },
  {
   "cell_type": "code",
   "execution_count": null,
   "metadata": {},
   "outputs": [],
   "source": []
  }
 ],
 "metadata": {
  "kernelspec": {
   "display_name": "Python 3",
   "language": "python",
   "name": "python3"
  },
  "language_info": {
   "codemirror_mode": {
    "name": "ipython",
    "version": 3
   },
   "file_extension": ".py",
   "mimetype": "text/x-python",
   "name": "python",
   "nbconvert_exporter": "python",
   "pygments_lexer": "ipython3",
   "version": "3.10.12"
  }
 },
 "nbformat": 4,
 "nbformat_minor": 2
}
