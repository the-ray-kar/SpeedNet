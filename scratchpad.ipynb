{
 "cells": [
  {
   "cell_type": "code",
   "execution_count": 1,
   "metadata": {},
   "outputs": [],
   "source": [
    "import cv2\n",
    "import numpy as np\n",
    "from dataset_maker import datasetmaker,data_browser\n",
    "import torch\n",
    "import torch.nn as nn\n",
    "import torch.optim as optim\n",
    "import torch.nn.functional as F"
   ]
  },
  {
   "cell_type": "markdown",
   "metadata": {},
   "source": [
    "## Fetch the road patch points"
   ]
  },
  {
   "cell_type": "code",
   "execution_count": 2,
   "metadata": {},
   "outputs": [
    {
     "name": "stdout",
     "output_type": "stream",
     "text": [
      "Point 1 selected: (11, 302)\n",
      "Point 2 selected: (634, 305)\n",
      "Point 3 selected: (478, 257)\n",
      "Point 4 selected: (186, 251)\n"
     ]
    }
   ],
   "source": [
    "datamaker  = datasetmaker(\"../sp_data/train.mp4\",\"../sp_data/train.txt\")\n",
    "points = datamaker.get_points_video()\n",
    "cv2.destroyAllWindows()"
   ]
  },
  {
   "cell_type": "code",
   "execution_count": 3,
   "metadata": {},
   "outputs": [
    {
     "data": {
      "text/plain": [
       "(1, 3, 204, 626)"
      ]
     },
     "execution_count": 3,
     "metadata": {},
     "output_type": "execute_result"
    }
   ],
   "source": [
    "#these would be final as whole model depends upon it. As width and height calculated depends on these points\n",
    "points\n",
    "width =  int(np.sum(np.sqrt( (points[0]-points[1]) **2) )) \n",
    "height = int(np.sum(np.sqrt( (points[2]-points[1]) **2) ))\n",
    "tensor_shape = 1,3,height,width\n",
    "tensor_shape"
   ]
  },
  {
   "cell_type": "markdown",
   "metadata": {},
   "source": [
    "## Model training"
   ]
  },
  {
   "cell_type": "code",
   "execution_count": 4,
   "metadata": {},
   "outputs": [],
   "source": [
    "class SpeedNet(nn.Module):\n",
    "    def __init__(self, input_shape):\n",
    "        super(SpeedNet, self).__init__()\n",
    "        self.conv1 = nn.Conv2d(in_channels=input_shape[1], out_channels=30, kernel_size=3)\n",
    "        self.conv2 = nn.Conv2d(in_channels=30, out_channels=5, kernel_size=5,stride=1)\n",
    "        self.conv3 = nn.Conv2d(in_channels=5, out_channels=1, kernel_size=3,stride=1)\n",
    "        self.pool = nn.MaxPool2d(kernel_size=3, stride=3)\n",
    "        self.flatten = nn.Flatten() \n",
    "        \n",
    "        # Calculate the size of the flattened features after the convolution and pooling layers\n",
    "        # This depends on the input image size and the layers' configurations\n",
    "        conv_output_size = self._get_conv_output(input_shape)\n",
    "        \n",
    "        self.fc1 = nn.Linear(conv_output_size, 32)\n",
    "        self.fc2 = nn.Linear(32, 1)\n",
    "\n",
    "    def conv_forward(self,x):\n",
    "        x = self.conv1(x)\n",
    "        x = F.relu(x)\n",
    "        x = self.pool(x)\n",
    "        print(\"after pool1\",x.shape,torch.sum(x))\n",
    "        x = self.conv2(x)\n",
    "        x = F.relu(x)\n",
    "        x = self.pool(x)\n",
    "        print(\"after pool2\",x.shape,torch.sum(x))\n",
    "        x = self.conv3(x)\n",
    "        x = F.relu(x)\n",
    "        x = self.pool(x)\n",
    "        print(\"after pool3\",x.shape,torch.sum(x))\n",
    "        return x\n",
    "    \n",
    "    def _get_conv_output(self, shapes):\n",
    "        x = torch.rand(shapes[1:],dtype=torch.float32)\n",
    "        print(x.shape)\n",
    "        x = self.conv_forward(x)\n",
    "        print(x.shape)\n",
    "        sizee = int(torch.prod(torch.tensor(x.size())))\n",
    "        print(sizee)\n",
    "        return sizee\n",
    "\n",
    "    def forward(self, x):\n",
    "\n",
    "        y = self.conv_forward(x)\n",
    "        #print('after ',torch.sum(y))\n",
    "        z = self.flatten(y)\n",
    "        d = F.relu(self.fc1(z))\n",
    "        r = self.fc2(d)\n",
    "        print('final out',r)\n",
    "        return r"
   ]
  },
  {
   "cell_type": "code",
   "execution_count": 5,
   "metadata": {},
   "outputs": [],
   "source": [
    "class Mini_SpeedNet(nn.Module):\n",
    "    def __init__(self, input_shape):\n",
    "        super(Mini_SpeedNet, self).__init__()\n",
    "        self.conv1 = nn.Conv2d(in_channels=input_shape[1], out_channels=1, kernel_size=3)\n",
    "        self.pool = nn.MaxPool2d(kernel_size=20, stride=10)\n",
    "        self.flatten = nn.Flatten() \n",
    "        \n",
    "        # Calculate the size of the flattened features after the convolution and pooling layers\n",
    "        # This depends on the input image size and the layers' configurations\n",
    "        conv_output_size = self._get_conv_output(input_shape)\n",
    "        \n",
    "        self.fc1 = nn.Linear(conv_output_size, 32)\n",
    "        self.fc2 = nn.Linear(32, 1)\n",
    "\n",
    "    def conv_forward(self,x):\n",
    "        x = self.conv1(x)\n",
    "        x = F.relu(x)\n",
    "        x = self.pool(x)\n",
    "        #print(\"after pool1\",x.shape,torch.sum(x))\n",
    "        return x\n",
    "    \n",
    "    def _get_conv_output(self, shapes):\n",
    "        x = torch.rand(shapes[1:],dtype=torch.float32)\n",
    "        print(x.shape)\n",
    "        x = self.conv_forward(x)\n",
    "        print(x.shape)\n",
    "        sizee = int(torch.prod(torch.tensor(x.size())))\n",
    "        print(sizee)\n",
    "        return sizee\n",
    "\n",
    "    def forward(self, x):\n",
    "\n",
    "        y = self.conv_forward(x)\n",
    "        #print('after ',torch.sum(y))\n",
    "        z = self.flatten(y)\n",
    "        d = F.relu(self.fc1(z))\n",
    "        r = self.fc2(d)\n",
    "        #print('final out',r)\n",
    "        return r"
   ]
  },
  {
   "cell_type": "code",
   "execution_count": 6,
   "metadata": {},
   "outputs": [
    {
     "name": "stdout",
     "output_type": "stream",
     "text": [
      "torch.Size([3, 204, 626])\n",
      "torch.Size([1, 19, 61])\n",
      "1159\n"
     ]
    }
   ],
   "source": [
    "model = Mini_SpeedNet(tensor_shape)"
   ]
  },
  {
   "cell_type": "code",
   "execution_count": 9,
   "metadata": {},
   "outputs": [],
   "source": [
    "criterion = nn.MSELoss()\n",
    "optimizer = optim.Adagrad(model.parameters(),lr = 0.001)"
   ]
  },
  {
   "cell_type": "code",
   "execution_count": 10,
   "metadata": {},
   "outputs": [
    {
     "data": {
      "text/plain": [
       "Mini_SpeedNet(\n",
       "  (conv1): Conv2d(3, 1, kernel_size=(3, 3), stride=(1, 1))\n",
       "  (pool): MaxPool2d(kernel_size=20, stride=10, padding=0, dilation=1, ceil_mode=False)\n",
       "  (flatten): Flatten(start_dim=1, end_dim=-1)\n",
       "  (fc1): Linear(in_features=1159, out_features=32, bias=True)\n",
       "  (fc2): Linear(in_features=32, out_features=1, bias=True)\n",
       ")"
      ]
     },
     "execution_count": 10,
     "metadata": {},
     "output_type": "execute_result"
    }
   ],
   "source": [
    "model.train()"
   ]
  },
  {
   "cell_type": "code",
   "execution_count": 11,
   "metadata": {},
   "outputs": [
    {
     "name": "stdout",
     "output_type": "stream",
     "text": [
      "torch.Size([10, 3, 204, 626])\n",
      "torch.Size([10, 3, 204, 626])\n",
      "torch.Size([10, 3, 204, 626])\n",
      "torch.Size([10, 3, 204, 626])\n",
      "torch.Size([10, 3, 204, 626])\n",
      "torch.Size([10, 3, 204, 626])\n",
      "torch.Size([10, 3, 204, 626])\n",
      "torch.Size([10, 3, 204, 626])\n",
      "torch.Size([10, 3, 204, 626])\n",
      "torch.Size([10, 3, 204, 626])\n"
     ]
    }
   ],
   "source": [
    "for input, label in datamaker.generate_tensor_data(points):\n",
    "    print(input.shape)"
   ]
  },
  {
   "cell_type": "code",
   "execution_count": 13,
   "metadata": {},
   "outputs": [
    {
     "name": "stdout",
     "output_type": "stream",
     "text": [
      "Epoch 1, Loss: 0.36155226826667786\n",
      "Epoch 2, Loss: 0.38207533955574036\n",
      "Epoch 3, Loss: 0.36637449264526367\n",
      "Epoch 4, Loss: 0.43566522002220154\n",
      "Epoch 5, Loss: 0.5719499588012695\n",
      "Epoch 6, Loss: 0.44131535291671753\n",
      "Epoch 7, Loss: 0.32337111234664917\n",
      "Epoch 8, Loss: 0.42546921968460083\n",
      "Epoch 9, Loss: 0.37832510471343994\n",
      "Epoch 10, Loss: 0.31713026762008667\n",
      "Finished Training\n"
     ]
    }
   ],
   "source": [
    "epoch = 0\n",
    "for input, label in datamaker.generate_tensor_data(points,batchsize=100,epochs=100):\n",
    "    # Zero the parameter gradients\n",
    "    optimizer.zero_grad()\n",
    "    \n",
    "    # Forward pass\n",
    "    outputs = model(input)\n",
    "    loss = criterion(outputs.squeeze(), label)\n",
    "    \n",
    "    # Backward pass and optimize\n",
    "    loss.backward()\n",
    "    optimizer.step()\n",
    "    \n",
    "\n",
    "    print(f'Epoch {epoch+1}, Loss: {loss.item()}')\n",
    "    epoch+=1\n",
    "\n",
    "print('Finished Training')"
   ]
  },
  {
   "cell_type": "code",
   "execution_count": 127,
   "metadata": {},
   "outputs": [],
   "source": [
    "torch.save({\n",
    "    'model_state_dict': model.state_dict(),\n",
    "    'optimizer_state_dict': optimizer.state_dict()\n",
    "}, 'model.pth')"
   ]
  },
  {
   "cell_type": "code",
   "execution_count": 128,
   "metadata": {},
   "outputs": [],
   "source": [
    "np.save(\"road_patch.npy\",points)"
   ]
  },
  {
   "cell_type": "markdown",
   "metadata": {},
   "source": [
    "## Reload the Model"
   ]
  },
  {
   "cell_type": "code",
   "execution_count": 129,
   "metadata": {},
   "outputs": [
    {
     "name": "stdout",
     "output_type": "stream",
     "text": [
      "torch.Size([3, 249, 638])\n",
      "torch.Size([1, 23, 62])\n",
      "1426\n"
     ]
    }
   ],
   "source": [
    "#Reload the dataloader,model and road_patch\n",
    "datamaker  = datasetmaker(\"../sp_data/train.mp4\",\"../sp_data/train.txt\")\n",
    "points = np.load(\"road_patch.npy\")\n",
    "width =  int(np.sum(np.sqrt( (points[0]-points[1]) **2) )) \n",
    "height = int(np.sum(np.sqrt( (points[2]-points[1]) **2) ))\n",
    "tensor_shape = 1,3,height,width\n",
    "model = Mini_SpeedNet(tensor_shape)\n",
    "# Load the model and optimizer state_dict\n",
    "checkpoint = torch.load('model.pth')\n",
    "model.load_state_dict(checkpoint['model_state_dict'])\n",
    "optimizer.load_state_dict(checkpoint['optimizer_state_dict'])\n"
   ]
  },
  {
   "cell_type": "code",
   "execution_count": 130,
   "metadata": {},
   "outputs": [
    {
     "name": "stdout",
     "output_type": "stream",
     "text": [
      "tensor(0.2179, grad_fn=<SqueezeBackward0>) tensor(0.9983) 0.608972430229187\n",
      "tensor(0.2146, grad_fn=<SqueezeBackward0>) tensor(1.) 0.6168603301048279\n",
      "tensor(0.2254, grad_fn=<SqueezeBackward0>) tensor(0.9985) 0.5977466106414795\n",
      "tensor(0.2235, grad_fn=<SqueezeBackward0>) tensor(0.9970) 0.598353385925293\n",
      "tensor(0.2202, grad_fn=<SqueezeBackward0>) tensor(0.9932) 0.5974103212356567\n",
      "tensor(0.2194, grad_fn=<SqueezeBackward0>) tensor(0.9920) 0.5969988703727722\n",
      "tensor(0.2180, grad_fn=<SqueezeBackward0>) tensor(0.9898) 0.5956991314888\n",
      "tensor(0.2167, grad_fn=<SqueezeBackward0>) tensor(0.9919) 0.6008511185646057\n",
      "tensor(0.2166, grad_fn=<SqueezeBackward0>) tensor(0.9894) 0.597251832485199\n",
      "tensor(0.2179, grad_fn=<SqueezeBackward0>) tensor(0.9892) 0.5949372053146362\n"
     ]
    }
   ],
   "source": [
    "frame_count = 0\n",
    "for input, label in datamaker.generate_tensor_data(points):\n",
    "        \n",
    "        # Forward pass\n",
    "        outputs = model(input)\n",
    "        loss = criterion(outputs.squeeze(), label)\n",
    "\n",
    "        frame_count+=1\n",
    "        print(outputs.squeeze(),label,loss.item())\n",
    "        if(frame_count%10==0):\n",
    "            break"
   ]
  },
  {
   "cell_type": "code",
   "execution_count": 119,
   "metadata": {},
   "outputs": [
    {
     "data": {
      "text/plain": [
       "tensor(0.9892)"
      ]
     },
     "execution_count": 119,
     "metadata": {},
     "output_type": "execute_result"
    }
   ],
   "source": [
    "label"
   ]
  },
  {
   "cell_type": "code",
   "execution_count": 131,
   "metadata": {},
   "outputs": [
    {
     "name": "stderr",
     "output_type": "stream",
     "text": [
      "/tmp/ipykernel_14830/3582067096.py:1: DeprecationWarning: This function is deprecated. Please call randint(2, 10 + 1) instead\n",
      "  np.random.random_integers(2,10,size=10)\n"
     ]
    },
    {
     "data": {
      "text/plain": [
       "array([ 7,  4,  5,  5,  2,  2,  8,  4,  9, 10])"
      ]
     },
     "execution_count": 131,
     "metadata": {},
     "output_type": "execute_result"
    }
   ],
   "source": [
    "np.random.random_integers(2,10,size=10)"
   ]
  },
  {
   "cell_type": "code",
   "execution_count": 134,
   "metadata": {},
   "outputs": [],
   "source": [
    "j =np.random.randint(2,10,size=10)"
   ]
  },
  {
   "cell_type": "code",
   "execution_count": 135,
   "metadata": {},
   "outputs": [
    {
     "name": "stdout",
     "output_type": "stream",
     "text": [
      "2\n",
      "2\n",
      "9\n",
      "9\n",
      "2\n",
      "4\n",
      "8\n",
      "3\n",
      "7\n",
      "2\n"
     ]
    }
   ],
   "source": [
    "for i in j:\n",
    "    print(i)"
   ]
  },
  {
   "cell_type": "code",
   "execution_count": null,
   "metadata": {},
   "outputs": [],
   "source": []
  }
 ],
 "metadata": {
  "kernelspec": {
   "display_name": "Python 3",
   "language": "python",
   "name": "python3"
  },
  "language_info": {
   "codemirror_mode": {
    "name": "ipython",
    "version": 3
   },
   "file_extension": ".py",
   "mimetype": "text/x-python",
   "name": "python",
   "nbconvert_exporter": "python",
   "pygments_lexer": "ipython3",
   "version": "3.10.12"
  }
 },
 "nbformat": 4,
 "nbformat_minor": 2
}
